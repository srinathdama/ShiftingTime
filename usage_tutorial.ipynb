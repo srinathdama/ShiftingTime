{
 "cells": [
  {
   "cell_type": "markdown",
   "metadata": {},
   "source": [
    "# KRNO usage"
   ]
  },
  {
   "cell_type": "code",
   "execution_count": 1,
   "metadata": {},
   "outputs": [],
   "source": [
    "import torch\n",
    "from torch import nn\n",
    "\n",
    "from khatriraonop import models, quadrature"
   ]
  },
  {
   "cell_type": "markdown",
   "metadata": {},
   "source": [
    "## 1. Temporal Problems"
   ]
  },
  {
   "cell_type": "code",
   "execution_count": 2,
   "metadata": {},
   "outputs": [],
   "source": [
    "# ---------------------------------------------------------------------------------\n",
    "# setting up the model grid\n",
    "# dimensionality of the input domain\n",
    "d = 1 # [t]\n",
    "\n",
    "# Helper method to initialize \n",
    "# KRNO model with default configuration \n",
    "model = models.KhatriRaoNO_v2.easy_init(\n",
    "    d,  # dimensionality of the input domain\n",
    "    in_channels=2,          #  #input channels \n",
    "    out_channels=2,         #  #output channels \n",
    "    lifting_channels=128,   #  #lifting channels\n",
    "    integral_channels=20,   #  #channels in each integral layer\n",
    "    n_integral_layers=3,    #  #KRNO integral layers\n",
    "    projection_channels=128,#  #projection channels\n",
    "    n_hidden_units=32,      #  #hidden units in each layer of neural network parametrizing component-wise kernel\n",
    "    n_hidden_layers=3,      # #hidden layers in neural network parametrizing component-wise kernel\n",
    "    nonlinearity=nn.SiLU(), # Activation function\n",
    ")\n",
    "# print(model)"
   ]
  },
  {
   "cell_type": "code",
   "execution_count": 3,
   "metadata": {},
   "outputs": [],
   "source": [
    "# 5 time instances in the past time-window  [0, 0.5)\n",
    "past_times    = torch.tensor([0.03, 0.12, 0.18, 0.31, 0.45])\n",
    "\n",
    "# predict at 7 time instances in the future time-window  [0.5, 1]\n",
    "predict_times = torch.tensor([0.53, 0.67, 0.74, 0.79, 0.86, 0.9, 0.98])"
   ]
  },
  {
   "cell_type": "code",
   "execution_count": 4,
   "metadata": {},
   "outputs": [
    {
     "name": "stdout",
     "output_type": "stream",
     "text": [
      "input shape: torch.Size([8, 5, 2])\n"
     ]
    }
   ],
   "source": [
    "# generating some dummy input data\n",
    "batch_size = 8\n",
    "\n",
    "u = torch.randn(batch_size, 5, 2)  # (BS, N, C), N is #time-steps, C is #channels\n",
    "print('input shape:', u.shape)"
   ]
  },
  {
   "cell_type": "code",
   "execution_count": 5,
   "metadata": {},
   "outputs": [],
   "source": [
    "# Compute input and output quadrature grids based on past_times and predict_times\n",
    "quad_grid_in  = quadrature.trapezoidal_vecs_uneven(past_times)\n",
    "quad_grid_out = quadrature.trapezoidal_vecs_uneven(predict_times)\n",
    "in_grid       = ([quad_grid_in[0]], [quad_grid_in[1]]) \n",
    "out_grid      = ([quad_grid_out[0]], [quad_grid_out[1]])"
   ]
  },
  {
   "cell_type": "code",
   "execution_count": 6,
   "metadata": {},
   "outputs": [
    {
     "name": "stdout",
     "output_type": "stream",
     "text": [
      "ouput shape: torch.Size([8, 7, 2])\n"
     ]
    }
   ],
   "source": [
    "# transform u -> v\n",
    "v = model.super_resolution(out_grid, in_grid, u)\n",
    "print('ouput shape:', v.shape)"
   ]
  },
  {
   "cell_type": "code",
   "execution_count": null,
   "metadata": {},
   "outputs": [],
   "source": []
  },
  {
   "cell_type": "markdown",
   "metadata": {},
   "source": [
    "## 2. Spatio-temporal problems "
   ]
  },
  {
   "cell_type": "markdown",
   "metadata": {},
   "source": [
    "#### 2D spatio-temporal problem \n",
    "\n",
    "**Considering shallow water problem**"
   ]
  },
  {
   "cell_type": "code",
   "execution_count": 7,
   "metadata": {},
   "outputs": [],
   "source": [
    "# 2D spatio-temporal problem \n",
    "\n",
    "# example: shallow water problem\n",
    "# dimensionality of the input domain\n",
    "d = 3 # [t, x, y]\n",
    "Sx = 32 # x resolution\n",
    "Sy = 32 # y resolution\n",
    "Nc = 3 #\\rho, u, v\n",
    "lag = 5\n",
    "\n",
    "# Helper method to initialize \n",
    "# KRNO model with default configuration \n",
    "model = models.KhatriRaoNO_v2.easy_init(\n",
    "    d,  # dimensionality of the input domain\n",
    "    in_channels=Nc,          #  \\rho, u, v\n",
    "    out_channels=Nc,         #  \\rho, u, v\n",
    "    lifting_channels=128,   #  #lifting channels\n",
    "    integral_channels=20,   #  #channels in each integral layer\n",
    "    n_integral_layers=3,    #  #KRNO integral layers\n",
    "    projection_channels=128,#  #projection channels\n",
    "    n_hidden_units=32,      #  #hidden units in each layer of neural network parametrizing component-wise kernel\n",
    "    n_hidden_layers=3,      # #hidden layers in neural network parametrizing component-wise kernel\n",
    "    nonlinearity=nn.SiLU(), # Activation function\n",
    ")\n",
    "# print(model)"
   ]
  },
  {
   "cell_type": "code",
   "execution_count": 8,
   "metadata": {},
   "outputs": [],
   "source": [
    "# get computational grid\n",
    "quad_fns = [\n",
    "    quadrature.midpoint_vecs,\n",
    "    quadrature.trapezoidal_vecs,\n",
    "    quadrature.trapezoidal_vecs,\n",
    "]\n",
    "\n",
    "## Input grid \n",
    "in_grid = quadrature.get_quad_grid(\n",
    "    quad_fns, [lag, Sx, Sy], [-1.0, -1.0, -1.0], [1.0, 1.0, 1.0]\n",
    ")\n",
    "\n",
    "## Output grid \n",
    "out_grid = quadrature.get_quad_grid(\n",
    "    quad_fns, [lag, Sx, Sy], [-1.0, -1.0, -1.0], [1.0, 1.0, 1.0]\n",
    ")"
   ]
  },
  {
   "cell_type": "code",
   "execution_count": 9,
   "metadata": {},
   "outputs": [
    {
     "name": "stdout",
     "output_type": "stream",
     "text": [
      "input shape: torch.Size([2, 5, 32, 32, 3])\n"
     ]
    }
   ],
   "source": [
    "# generating some dummy input data\n",
    "batch_size = 2\n",
    "\n",
    "u = torch.randn(batch_size, lag, Sx, Sy, Nc)\n",
    "print('input shape:', u.shape)\n"
   ]
  },
  {
   "cell_type": "markdown",
   "metadata": {},
   "source": [
    "**Using GPU**"
   ]
  },
  {
   "cell_type": "code",
   "execution_count": 10,
   "metadata": {},
   "outputs": [
    {
     "name": "stdout",
     "output_type": "stream",
     "text": [
      "Device: cuda\n"
     ]
    }
   ],
   "source": [
    "device = torch.device('cuda' if torch.cuda.is_available() else 'cpu')\n",
    "print('Device:', device)\n",
    "\n",
    "model = model.to(device)\n",
    "u     = u.to(device)\n",
    "\n",
    "out_grid = quadrature.quad_grid_to_device(out_grid, device)\n",
    "in_grid  = quadrature.quad_grid_to_device(in_grid, device)\n"
   ]
  },
  {
   "cell_type": "code",
   "execution_count": 11,
   "metadata": {},
   "outputs": [
    {
     "name": "stdout",
     "output_type": "stream",
     "text": [
      "ouput shape: torch.Size([2, 5, 32, 32, 3])\n"
     ]
    }
   ],
   "source": [
    "# transform u -> v\n",
    "v = model.super_resolution(out_grid, in_grid, u)\n",
    "print('ouput shape:', v.shape)"
   ]
  },
  {
   "cell_type": "markdown",
   "metadata": {},
   "source": [
    "### Using lower-resolution quadrature grid in the intermediate integral layers"
   ]
  },
  {
   "cell_type": "code",
   "execution_count": 12,
   "metadata": {},
   "outputs": [],
   "source": [
    "quad_grid_latent = quadrature.get_quad_grid(\n",
    "            quad_fns, [lag, int(Sx/2), int(Sy/2)], [-1.0, -1.0, -1.0], [1.0, 1.0, 1.0]\n",
    "        )\n",
    "latent_grid = quadrature.quad_grid_to_device(quad_grid_latent, device)\n"
   ]
  },
  {
   "cell_type": "code",
   "execution_count": 13,
   "metadata": {},
   "outputs": [
    {
     "name": "stdout",
     "output_type": "stream",
     "text": [
      "ouput shape: torch.Size([2, 5, 32, 32, 3])\n"
     ]
    }
   ],
   "source": [
    "v = model.super_resolution(out_grid, in_grid, u, latent_grid=latent_grid)\n",
    "print('ouput shape:', v.shape)"
   ]
  },
  {
   "cell_type": "markdown",
   "metadata": {},
   "source": [
    "### Forecasting at super-resolution in both space and time"
   ]
  },
  {
   "cell_type": "code",
   "execution_count": 14,
   "metadata": {},
   "outputs": [],
   "source": [
    "## Output grid \n",
    "out_grid = quadrature.get_quad_grid(\n",
    "    quad_fns, [4*lag, 4*Sx, 4*Sy], [-1.0, -1.0, -1.0], [1.0, 1.0, 1.0]\n",
    ")\n",
    "out_grid = quadrature.quad_grid_to_device(out_grid, device)"
   ]
  },
  {
   "cell_type": "code",
   "execution_count": 15,
   "metadata": {},
   "outputs": [
    {
     "name": "stdout",
     "output_type": "stream",
     "text": [
      "ouput shape: torch.Size([2, 20, 128, 128, 3])\n"
     ]
    }
   ],
   "source": [
    "v = model.super_resolution(out_grid, in_grid, u, latent_grid=latent_grid)\n",
    "print('ouput shape:', v.shape)"
   ]
  },
  {
   "cell_type": "markdown",
   "metadata": {},
   "source": [
    "When `in_grid`,`latent_grid` and `out_grid` are same for training and inference, we can improve the performance of model by using the following method, which enables the affine maps in the first and last integral layers."
   ]
  },
  {
   "cell_type": "code",
   "execution_count": null,
   "metadata": {},
   "outputs": [
    {
     "name": "stdout",
     "output_type": "stream",
     "text": [
      "ouput shape: torch.Size([2, 5, 32, 32, 3])\n"
     ]
    }
   ],
   "source": [
    "# Helper method to initialize \n",
    "# KRNO model \n",
    "model = models.KhatriRaoNO_v2.easy_init(\n",
    "    d,  # dimensionality of the input domain\n",
    "    in_channels=Nc,          #  \\rho, u, v\n",
    "    out_channels=Nc,         #  \\rho, u, v\n",
    "    lifting_channels=128,   #  #lifting channels\n",
    "    integral_channels=20,   #  #channels in each integral layer\n",
    "    n_integral_layers=3,    #  #KRNO integral layers\n",
    "    projection_channels=128,#  #projection channels\n",
    "    n_hidden_units=32,      #  #hidden units in each layer of neural network parametrizing component-wise kernel\n",
    "    n_hidden_layers=3,      # #hidden layers in neural network parametrizing component-wise kernel\n",
    "    nonlinearity=nn.SiLU(), # Activation function\n",
    ")\n",
    "model = model.to(device)\n",
    "\n",
    "# when input and output grids are same \n",
    "cart_grid = quadrature.quad_to_cartesian_grid(in_grid)\n",
    "cart_grid = quadrature.cart_grid_to_device(cart_grid, device) # move grid to device\n",
    "\n",
    "v1         = model(cart_grid, u)\n",
    "print('ouput shape:', v1.shape)"
   ]
  }
 ],
 "metadata": {
  "kernelspec": {
   "display_name": "KRNO_env",
   "language": "python",
   "name": "python3"
  },
  "language_info": {
   "codemirror_mode": {
    "name": "ipython",
    "version": 3
   },
   "file_extension": ".py",
   "mimetype": "text/x-python",
   "name": "python",
   "nbconvert_exporter": "python",
   "pygments_lexer": "ipython3",
   "version": "3.10.18"
  }
 },
 "nbformat": 4,
 "nbformat_minor": 2
}
