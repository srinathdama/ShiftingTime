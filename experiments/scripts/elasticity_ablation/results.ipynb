{
 "cells": [
  {
   "cell_type": "code",
   "execution_count": 1,
   "metadata": {},
   "outputs": [],
   "source": [
    "import numpy as np"
   ]
  },
  {
   "cell_type": "code",
   "execution_count": 2,
   "metadata": {},
   "outputs": [],
   "source": [
    "def get_stats(data):\n",
    "    mean = np.mean(data)\n",
    "    std  = np.std(data)\n",
    "    print(f'mean: {mean}, std: {std}')"
   ]
  },
  {
   "cell_type": "markdown",
   "metadata": {},
   "source": [
    "# Elasticity problem results"
   ]
  },
  {
   "cell_type": "markdown",
   "metadata": {},
   "source": [
    "## 16 x 16"
   ]
  },
  {
   "cell_type": "code",
   "execution_count": 3,
   "metadata": {},
   "outputs": [
    {
     "name": "stdout",
     "output_type": "stream",
     "text": [
      "mean: 0.052017999999999995, std: 0.001831036864729926\n"
     ]
    }
   ],
   "source": [
    "test_errors = [0.05016, 0.05071, 0.05500, 0.05095, 0.05327]\n",
    "\n",
    "get_stats(test_errors)"
   ]
  },
  {
   "cell_type": "markdown",
   "metadata": {},
   "source": [
    "## 24 x 24"
   ]
  },
  {
   "cell_type": "code",
   "execution_count": 4,
   "metadata": {},
   "outputs": [
    {
     "name": "stdout",
     "output_type": "stream",
     "text": [
      "mean: 0.051390000000000005, std: 0.0016819393568140311\n"
     ]
    }
   ],
   "source": [
    "test_errors = [0.05126, 0.05003, 0.05395, 0.04925, 0.05246]\n",
    "\n",
    "get_stats(test_errors)"
   ]
  },
  {
   "cell_type": "markdown",
   "metadata": {},
   "source": [
    "## 32 x 32"
   ]
  },
  {
   "cell_type": "code",
   "execution_count": 5,
   "metadata": {},
   "outputs": [
    {
     "name": "stdout",
     "output_type": "stream",
     "text": [
      "mean: 0.05145599999999999, std: 0.002627901063586679\n"
     ]
    }
   ],
   "source": [
    "test_errors = [0.05096, 0.05011, 0.05661, 0.04934, 0.05026]\n",
    "\n",
    "get_stats(test_errors)"
   ]
  },
  {
   "cell_type": "markdown",
   "metadata": {},
   "source": [
    "## 40 x 40"
   ]
  },
  {
   "cell_type": "code",
   "execution_count": 6,
   "metadata": {},
   "outputs": [
    {
     "name": "stdout",
     "output_type": "stream",
     "text": [
      "mean: 0.051205999999999995, std: 0.0014810212692598322\n"
     ]
    }
   ],
   "source": [
    "test_errors = [0.05062, 0.04998, 0.05412, 0.05055, 0.05076]\n",
    "\n",
    "get_stats(test_errors)"
   ]
  },
  {
   "cell_type": "markdown",
   "metadata": {},
   "source": [
    "## 48 x 48"
   ]
  },
  {
   "cell_type": "code",
   "execution_count": 7,
   "metadata": {},
   "outputs": [
    {
     "name": "stdout",
     "output_type": "stream",
     "text": [
      "mean: 0.051648000000000006, std: 0.0016346547035995084\n"
     ]
    }
   ],
   "source": [
    "test_errors = [0.05160, 0.05090, 0.05458, 0.04960, 0.05156]\n",
    "\n",
    "get_stats(test_errors)"
   ]
  },
  {
   "cell_type": "markdown",
   "metadata": {},
   "source": []
  }
 ],
 "metadata": {
  "kernelspec": {
   "display_name": "TNO",
   "language": "python",
   "name": "python3"
  },
  "language_info": {
   "codemirror_mode": {
    "name": "ipython",
    "version": 3
   },
   "file_extension": ".py",
   "mimetype": "text/x-python",
   "name": "python",
   "nbconvert_exporter": "python",
   "pygments_lexer": "ipython3",
   "version": "3.10.13"
  }
 },
 "nbformat": 4,
 "nbformat_minor": 2
}
