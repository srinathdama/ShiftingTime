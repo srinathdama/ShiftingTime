{
 "cells": [
  {
   "cell_type": "code",
   "execution_count": 4,
   "metadata": {},
   "outputs": [],
   "source": [
    "import numpy as np"
   ]
  },
  {
   "cell_type": "code",
   "execution_count": 5,
   "metadata": {},
   "outputs": [],
   "source": [
    "def get_stats(data):\n",
    "    mean = np.mean(data)\n",
    "    std  = np.std(data)\n",
    "    print(f'mean: {mean}, std: {std}')"
   ]
  },
  {
   "cell_type": "markdown",
   "metadata": {},
   "source": [
    "# Activity"
   ]
  },
  {
   "cell_type": "code",
   "execution_count": 4,
   "metadata": {},
   "outputs": [
    {
     "name": "stdout",
     "output_type": "stream",
     "text": [
      "mean: 0.002846, std: 2.7276363393971613e-05\n",
      "mean: 0.034592, std: 0.00022462413049358803\n"
     ]
    }
   ],
   "source": [
    "mse_data = [0.00283, 0.00283, 0.00284, 0.00283, 0.00290]\n",
    "mae_data = [0.03448, 0.03461, 0.03444, 0.03441, 0.03502]\n",
    "\n",
    "get_stats(mse_data)\n",
    "get_stats(mae_data)"
   ]
  },
  {
   "cell_type": "markdown",
   "metadata": {},
   "source": [
    "# Ushcn"
   ]
  },
  {
   "cell_type": "code",
   "execution_count": 5,
   "metadata": {},
   "outputs": [
    {
     "name": "stdout",
     "output_type": "stream",
     "text": [
      "mean: 0.49477200000000005, std: 0.007842125732223386\n",
      "mean: 0.30561799999999995, std: 0.00840496615103239\n"
     ]
    }
   ],
   "source": [
    "mse_data = [0.49238, 0.49678, 0.50865, 0.49068, 0.48537]\n",
    "mae_data = [0.30944, 0.30327, 0.31962, 0.29494, 0.30082]\n",
    "\n",
    "get_stats(mse_data)\n",
    "get_stats(mae_data)"
   ]
  },
  {
   "cell_type": "markdown",
   "metadata": {},
   "source": [
    "# MIMIC"
   ]
  },
  {
   "cell_type": "code",
   "execution_count": 6,
   "metadata": {},
   "outputs": [
    {
     "name": "stdout",
     "output_type": "stream",
     "text": [
      "mean: 0.01567, std: 0.0002093800372528388\n",
      "mean: 0.07433, std: 0.0006061352984276674\n"
     ]
    }
   ],
   "source": [
    "mse_data = [0.01566, 0.01590, 0.01530, 0.01584, 0.01565]\n",
    "mae_data = [0.07395, 0.07502, 0.07413, 0.07504, 0.07351]\n",
    "\n",
    "get_stats(mse_data)\n",
    "get_stats(mae_data)"
   ]
  },
  {
   "cell_type": "markdown",
   "metadata": {},
   "source": []
  }
 ],
 "metadata": {
  "kernelspec": {
   "display_name": "TNO",
   "language": "python",
   "name": "python3"
  },
  "language_info": {
   "codemirror_mode": {
    "name": "ipython",
    "version": 3
   },
   "file_extension": ".py",
   "mimetype": "text/x-python",
   "name": "python",
   "nbconvert_exporter": "python",
   "pygments_lexer": "ipython3",
   "version": "3.10.13"
  }
 },
 "nbformat": 4,
 "nbformat_minor": 2
}
