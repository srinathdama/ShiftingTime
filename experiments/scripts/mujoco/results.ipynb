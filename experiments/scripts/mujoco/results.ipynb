{
 "cells": [
  {
   "cell_type": "code",
   "execution_count": 1,
   "metadata": {},
   "outputs": [],
   "source": [
    "import numpy as np"
   ]
  },
  {
   "cell_type": "code",
   "execution_count": 2,
   "metadata": {},
   "outputs": [],
   "source": [
    "def get_stats(data):\n",
    "    mean = np.mean(data)\n",
    "    std  = np.std(data)\n",
    "    print(f'mean: {mean}, std: {std}')"
   ]
  },
  {
   "cell_type": "markdown",
   "metadata": {},
   "source": [
    "#  Regular results"
   ]
  },
  {
   "cell_type": "code",
   "execution_count": 3,
   "metadata": {},
   "outputs": [
    {
     "name": "stdout",
     "output_type": "stream",
     "text": [
      "mean: 0.006605999999999999, std: 0.002444067102188481\n"
     ]
    }
   ],
   "source": [
    "test_errors = [0.00517, 0.00615, 0.00611, 0.0043, 0.0113] # lr 0.001, with cudnn.deterministic\n",
    "get_stats(test_errors)"
   ]
  },
  {
   "cell_type": "markdown",
   "metadata": {},
   "source": [
    "# 30% dropped"
   ]
  },
  {
   "cell_type": "code",
   "execution_count": 4,
   "metadata": {},
   "outputs": [
    {
     "name": "stdout",
     "output_type": "stream",
     "text": [
      "mean: 0.007711999999999999, std: 0.0017427036466364553\n"
     ]
    }
   ],
   "source": [
    "test_errors = [0.00994, 0.00554, 0.00591, 0.00919, 0.00798] # lr 0.001, with cudnn.deterministic\n",
    "get_stats(test_errors)"
   ]
  },
  {
   "cell_type": "markdown",
   "metadata": {},
   "source": [
    "# 50% dropped"
   ]
  },
  {
   "cell_type": "code",
   "execution_count": 5,
   "metadata": {},
   "outputs": [
    {
     "name": "stdout",
     "output_type": "stream",
     "text": [
      "mean: 0.011414, std: 0.00368821691336071\n"
     ]
    }
   ],
   "source": [
    "test_errors = [0.0136, 0.00666, 0.00881, 0.0108, 0.0172] # lr 0.001, with cudnn.deterministic\n",
    "get_stats(test_errors)"
   ]
  },
  {
   "cell_type": "markdown",
   "metadata": {},
   "source": [
    "# 70% dropped"
   ]
  },
  {
   "cell_type": "code",
   "execution_count": 6,
   "metadata": {},
   "outputs": [
    {
     "name": "stdout",
     "output_type": "stream",
     "text": [
      "mean: 0.011488, std: 0.0021407886397306953\n"
     ]
    }
   ],
   "source": [
    "test_errors = [0.0131, 0.0104, 0.0111, 0.00834, 0.0145] # lr 0.001, with cudnn.deterministic\n",
    "get_stats(test_errors)"
   ]
  },
  {
   "cell_type": "code",
   "execution_count": null,
   "metadata": {},
   "outputs": [],
   "source": []
  }
 ],
 "metadata": {
  "kernelspec": {
   "display_name": "TNO",
   "language": "python",
   "name": "python3"
  },
  "language_info": {
   "codemirror_mode": {
    "name": "ipython",
    "version": 3
   },
   "file_extension": ".py",
   "mimetype": "text/x-python",
   "name": "python",
   "nbconvert_exporter": "python",
   "pygments_lexer": "ipython3",
   "version": "3.10.13"
  }
 },
 "nbformat": 4,
 "nbformat_minor": 2
}
